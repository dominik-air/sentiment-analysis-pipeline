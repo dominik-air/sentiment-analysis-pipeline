{
 "cells": [
  {
   "cell_type": "code",
   "execution_count": 2,
   "id": "e6df371b",
   "metadata": {},
   "outputs": [],
   "source": [
    "from transformers import AutoModelForSequenceClassification\n",
    "from transformers import TFAutoModelForSequenceClassification\n",
    "from transformers import AutoTokenizer, AutoConfig\n",
    "import numpy as np\n",
    "from scipy.special import softmax\n",
    "from sqlalchemy import MetaData, Table, select\n",
    "import pandas as pd"
   ]
  },
  {
   "cell_type": "markdown",
   "id": "11e3c582",
   "metadata": {},
   "source": [
    "For one string"
   ]
  },
  {
   "cell_type": "code",
   "execution_count": 96,
   "id": "8840d253",
   "metadata": {},
   "outputs": [],
   "source": [
    "class Model:\n",
    "    def __init__(self):\n",
    "        model_name = f\"cardiffnlp/twitter-roberta-base-sentiment-latest\"\n",
    "        self.model = AutoModelForSequenceClassification.from_pretrained(model_name)\n",
    "        self.tokenizer = AutoTokenizer.from_pretrained(model_name)\n",
    "        self.config = AutoConfig.from_pretrained(model_name)\n",
    "    \n",
    "    @staticmethod\n",
    "    def preprocess(text):\n",
    "            new_text = []\n",
    "            for t in text.split(\" \"):\n",
    "                t = '@user' if t.startswith('@') and len(t) > 1 else t\n",
    "                t = 'http' if t.startswith('http') else t\n",
    "                new_text.append(t)\n",
    "            return \" \".join(new_text) \n",
    "    \n",
    "    def display_result(self, scores):\n",
    "        ranking = np.argsort(scores)\n",
    "        ranking = ranking[::-1]\n",
    "        \n",
    "        for i in range(scores.shape[0]):\n",
    "            l = self.config.id2label[ranking[i]]\n",
    "            s = scores[ranking[i]]\n",
    "            print(f\"{i+1}) {l} {np.round(float(s), 4)}\")\n",
    "            \n",
    "    def insert_result_into_dataframe(self, scores):\n",
    "        score2text = '\\n1;1;' + \";\".join(str(s) for s in scores)\n",
    "        \n",
    "        with open('results.csv','a') as f:\n",
    "            f.write(score2text)\n",
    "\n",
    "    def predict(self, text):\n",
    "        text = Model.preprocess(text)\n",
    "        encoded_input = self.tokenizer(text, return_tensors='pt')\n",
    "        output = self.model(**encoded_input)\n",
    "        scores = output[0][0].detach().numpy()\n",
    "        scores = softmax(scores)\n",
    "        \n",
    "        return scores"
   ]
  },
  {
   "cell_type": "code",
   "execution_count": 97,
   "id": "2223cf1b",
   "metadata": {},
   "outputs": [
    {
     "name": "stderr",
     "output_type": "stream",
     "text": [
      "Some weights of the model checkpoint at cardiffnlp/twitter-roberta-base-sentiment-latest were not used when initializing RobertaForSequenceClassification: ['roberta.pooler.dense.bias', 'roberta.pooler.dense.weight']\n",
      "- This IS expected if you are initializing RobertaForSequenceClassification from the checkpoint of a model trained on another task or with another architecture (e.g. initializing a BertForSequenceClassification model from a BertForPreTraining model).\n",
      "- This IS NOT expected if you are initializing RobertaForSequenceClassification from the checkpoint of a model that you expect to be exactly identical (initializing a BertForSequenceClassification model from a BertForSequenceClassification model).\n"
     ]
    }
   ],
   "source": [
    "m = Model()"
   ]
  },
  {
   "cell_type": "code",
   "execution_count": 105,
   "id": "c67076bd",
   "metadata": {},
   "outputs": [
    {
     "data": {
      "text/plain": [
       "array([0.72357625, 0.2286794 , 0.04774441], dtype=float32)"
      ]
     },
     "execution_count": 105,
     "metadata": {},
     "output_type": "execute_result"
    }
   ],
   "source": [
    "a = m.predict(\"Covid cases are increasing fast!\")\n",
    "# m.insert_result_into_dataframe(m.predict(\"Covid cases are increasing fast!\"))\n",
    "a"
   ]
  },
  {
   "cell_type": "code",
   "execution_count": null,
   "id": "337eb3a5",
   "metadata": {},
   "outputs": [],
   "source": []
  },
  {
   "cell_type": "markdown",
   "id": "4ce44838",
   "metadata": {},
   "source": [
    "For dataframe"
   ]
  },
  {
   "cell_type": "code",
   "execution_count": 3,
   "id": "a9cb4333",
   "metadata": {},
   "outputs": [],
   "source": [
    "class Model:\n",
    "    def __init__(self, engine):\n",
    "        model_name = f\"cardiffnlp/twitter-roberta-base-sentiment-latest\"\n",
    "        self.model = AutoModelForSequenceClassification.from_pretrained(model_name)\n",
    "        self.tokenizer = AutoTokenizer.from_pretrained(model_name)\n",
    "        self.config = AutoConfig.from_pretrained(model_name)\n",
    "        \n",
    "        self.engine = engine\n",
    "        self.tweets = Table('tweets', MetaData(), autoload=True, autoload_with=engine)\n",
    "        self.sentiments = Table('sentiments', MetaData(), autoload=True, autoload_with=engine)\n",
    "        \n",
    "        self.dataframe = self.read_data()\n",
    "        \n",
    "    def read_data(self):\n",
    "        stmt = (\n",
    "            select([\n",
    "                self.tweets.columns.id,\n",
    "                self.tweets.columns.body            \n",
    "        ]))\n",
    "        \n",
    "        return pd.DataFrame(self.engine.execute(stmt).fetchall())\n",
    "        \n",
    "    @staticmethod\n",
    "    def preprocess(text):\n",
    "            new_text = []\n",
    "            for t in text.split(\" \"):\n",
    "                t = '@user' if t.startswith('@') and len(t) > 1 else t\n",
    "                t = 'http' if t.startswith('http') else t\n",
    "                new_text.append(t)\n",
    "            return \" \".join(new_text) \n",
    "    \n",
    "    def get_model_output(self, text):\n",
    "        encoded_input = self.tokenizer(text, return_tensors='pt')\n",
    "        output = self.model(**encoded_input)\n",
    "        scores = output[0][0].detach().numpy()\n",
    "        scores = softmax(scores)\n",
    "        \n",
    "        return list(scores)\n",
    "    \n",
    "    def split_model_output(self):\n",
    "        model_output = np.array(list(self.dataframe['scores'].values))\n",
    "        \n",
    "        self.dataframe['positive'] = model_output[:, 2]\n",
    "        self.dataframe['negative'] = model_output[:, 0]\n",
    "        self.dataframe['neutral'] = model_output[:, 1]\n",
    "        \n",
    "        self.dataframe.drop(columns=['scores'], inplace=True)\n",
    "        \n",
    "    def update_id(self):\n",
    "        stmt = (\n",
    "            select(func.max(self.sentiments.columns.id))\n",
    "        )\n",
    "        new_id = self.engine.execute(stmt).fetchall()[0][0]\n",
    "        \n",
    "        if new_id is not None:\n",
    "            self.dataframe.index += new_id + 1\n",
    "        \n",
    "    def insert_result_into_database(self, scores):\n",
    "        self.update_id()\n",
    "        \n",
    "        self.dataframe.to_sql('sentiments', self.engine, if_exists='append', index=True, index_label='id')\n",
    "        \n",
    "    def predict(self):\n",
    "        self.dataframe.body = self.dataframe.body.apply(Model.preprocess)\n",
    "        self.dataframe['scores'] = self.dataframe.body.apply(self.get_model_output)\n",
    "        \n",
    "        self.split_model_output()\n",
    "        \n",
    "        self.insert_result_into_database()"
   ]
  }
 ],
 "metadata": {
  "kernelspec": {
   "display_name": "Python 3 (ipykernel)",
   "language": "python",
   "name": "python3"
  },
  "language_info": {
   "codemirror_mode": {
    "name": "ipython",
    "version": 3
   },
   "file_extension": ".py",
   "mimetype": "text/x-python",
   "name": "python",
   "nbconvert_exporter": "python",
   "pygments_lexer": "ipython3",
   "version": "3.9.13"
  }
 },
 "nbformat": 4,
 "nbformat_minor": 5
}
